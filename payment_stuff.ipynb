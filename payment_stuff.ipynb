{
  "nbformat": 4,
  "nbformat_minor": 0,
  "metadata": {
    "colab": {
      "provenance": [],
      "collapsed_sections": [],
      "toc_visible": true,
      "authorship_tag": "ABX9TyPLcmtevu2WegAtkbjDQYKj"
    },
    "kernelspec": {
      "name": "python3",
      "display_name": "Python 3"
    },
    "language_info": {
      "name": "python"
    }
  },
  "cells": [
    {
      "cell_type": "markdown",
      "source": [
        "# Remove Debt"
      ],
      "metadata": {
        "id": "M8-EgIUT-jDP"
      }
    },
    {
      "cell_type": "code",
      "execution_count": 25,
      "metadata": {
        "colab": {
          "base_uri": "https://localhost:8080/"
        },
        "id": "F9k4wNRMbT6F",
        "outputId": "fcd99f8b-7016-49cf-9bac-4f0dd31ce4ae"
      },
      "outputs": [
        {
          "output_type": "execute_result",
          "data": {
            "text/plain": [
              "{'spreadsheetId': '1aln4-ozI3ESi59O-A-CWJseRJH426x1veMchM6HQZjk',\n",
              " 'updatedRange': 'Itemized!A1:J15',\n",
              " 'updatedRows': 15,\n",
              " 'updatedColumns': 10,\n",
              " 'updatedCells': 150}"
            ]
          },
          "metadata": {},
          "execution_count": 25
        }
      ],
      "source": [
        "from google.colab import auth\n",
        "from google.auth import default\n",
        "import gspread\n",
        "import pandas as pd\n",
        "\n",
        "empty = [\"\"] * 6\n",
        "empty = [empty]\n",
        "\n",
        "# access to google drive\n",
        "auth.authenticate_user()\n",
        "\n",
        "# logging in\n",
        "creds, _ = default()\n",
        "gc = gspread.authorize(creds)\n",
        "\n",
        "sheet = gc.open('Payment Stuff')\n",
        "worksheet = sheet.get_worksheet(0)\n",
        "info = worksheet.get_all_records()\n",
        "\n",
        "df = pd.DataFrame(info)\n",
        "\n",
        "# gets which debt has been cleared\n",
        "paid_from = str(worksheet.get(\"H1\"))\n",
        "paid_from = paid_from[3:-3]\n",
        "paid_to = str(worksheet.get(\"J1\"))\n",
        "paid_to = paid_to[3:-3]\n",
        "\n",
        "clear_rows = list()\n",
        "\n",
        "size = len(df.values.tolist())\n",
        "\n",
        "# gets rows which have the info abt debt btwn those people\n",
        "for row in range(2, size):\n",
        "  if ((worksheet.cell(row, 4).value == paid_from and worksheet.cell(row, 5).value == paid_to) or (worksheet.cell(row, 4).value == paid_to and worksheet.cell(row, 5).value == paid_from)):\n",
        "    # get row to clear\n",
        "    to_clear = str(\"A\" + str(row) + \":F\" + str(row))\n",
        "    # add pair to list\n",
        "    clear_rows.append(to_clear)\n",
        "\n",
        "for i in range(len(clear_rows)):\n",
        "  # update() lets you update a range of cells with a list of lists\n",
        "  worksheet.update(clear_rows[i], empty)\n",
        "\n",
        "# Sorts sheet\n",
        "\n",
        "# NEED to update the dataframe so it doesn't put the shit we just took out back\n",
        "info = worksheet.get_all_records()\n",
        "df = pd.DataFrame(info)\n",
        "\n",
        "# NOW you can sort\n",
        "df['From'] = pd.to_datetime(df['From'])\n",
        "df = df.sort_values(by = \"From\", ascending = False)\n",
        "\n",
        "# changes format\n",
        "df['From'] = df['From'].dt.strftime('%m/%d/%Y')\n",
        "df['From'] = df['From'].astype(str)\n",
        "\n",
        "# clears \"nan\"\n",
        "for i in range(len(df['From'])):\n",
        "  if df.From[i] == \"nan\":\n",
        "    df.From[i] = \"\"\n",
        "\n",
        "worksheet.update([df.columns.values.tolist()] + df.values.tolist())"
      ]
    },
    {
      "cell_type": "markdown",
      "source": [
        "# Sort"
      ],
      "metadata": {
        "id": "8RD7PMgu-XCL"
      }
    },
    {
      "cell_type": "code",
      "source": [
        "# No longer required\n",
        "from urllib.parse import parse_qs\n",
        "from google.colab import auth\n",
        "from google.auth import default\n",
        "import gspread\n",
        "import pandas as pd\n",
        "\n",
        "# access to google drive\n",
        "auth.authenticate_user()\n",
        "\n",
        "# logging in\n",
        "creds, _ = default()\n",
        "gc = gspread.authorize(creds)\n",
        "\n",
        "sheet = gc.open('Payment Stuff')\n",
        "worksheet = sheet.get_worksheet(0)\n",
        "info = worksheet.get_all_records()\n",
        "\n",
        "df = pd.DataFrame(info)\n",
        "\n",
        "df['From'] = pd.to_datetime(df['From'])\n",
        "df = df.sort_values(by = \"From\", ascending = False)\n",
        "\n",
        "# changes format\n",
        "df['From'] = df['From'].dt.strftime('%m/%d/%Y')\n",
        "\n",
        "df['From'] = df['From'].astype(str)\n",
        "\n",
        "worksheet.update([df.columns.values.tolist()] + df.values.tolist())"
      ],
      "metadata": {
        "colab": {
          "base_uri": "https://localhost:8080/"
        },
        "id": "XdAa941O-Tos",
        "outputId": "8c28853e-0596-4458-c57f-56a5a6f5e9db"
      },
      "execution_count": 18,
      "outputs": [
        {
          "output_type": "execute_result",
          "data": {
            "text/plain": [
              "{'spreadsheetId': '1aln4-ozI3ESi59O-A-CWJseRJH426x1veMchM6HQZjk',\n",
              " 'updatedRange': 'Itemized!A1:H16',\n",
              " 'updatedRows': 16,\n",
              " 'updatedColumns': 8,\n",
              " 'updatedCells': 128}"
            ]
          },
          "metadata": {},
          "execution_count": 18
        }
      ]
    },
    {
      "cell_type": "markdown",
      "source": [],
      "metadata": {
        "id": "suPtzmJz-bdo"
      }
    }
  ]
}